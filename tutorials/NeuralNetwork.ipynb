{
 "cells": [
  {
   "cell_type": "code",
   "execution_count": 1,
   "metadata": {
    "collapsed": false
   },
   "outputs": [],
   "source": [
    "# Import for Neural Network\n",
    "from NeuralNetwork import MultiLayerPerceptron as mlpLib\n",
    "from sklearn import datasets\n",
    "\n",
    "import numpy as np"
   ]
  },
  {
   "cell_type": "code",
   "execution_count": 2,
   "metadata": {
    "collapsed": false
   },
   "outputs": [],
   "source": [
    "# How create a MLP object\n",
    "mlp = mlpLib.MLP(rng=np.random.RandomState(), n_in=4, n_hidden=[10, 9, 9, 11], n_out=3)"
   ]
  },
  {
   "cell_type": "code",
   "execution_count": 8,
   "metadata": {
    "collapsed": false
   },
   "outputs": [
    {
     "name": "stdout",
     "output_type": "stream",
     "text": [
      "Input: \n",
      "[[ 4.9  3.   1.4  0.2]\n",
      " [ 4.7  3.2  1.3  0.2]]\n",
      "\n",
      "mlp.InputLayer.GetOutput(input): \n",
      "[[ 4.9  3.   1.4  0.2]\n",
      " [ 4.7  3.2  1.3  0.2]]\n",
      "\n",
      "mlp.HiddenLayer[0].GetOutput(input).eval(): \n",
      "[[ 0.99995102  0.78557752  0.40869636 -0.99984988  0.87778838 -0.09019301\n",
      "  -0.99822116  0.99942329 -0.64216613  0.96069918]\n",
      " [ 0.99994577  0.69814439  0.43856452 -0.9998155   0.85881802 -0.19581742\n",
      "  -0.99826683  0.9993947  -0.62315505  0.96619594]]\n",
      "\n",
      "mlp.GetOutput(input,show=False): \n",
      "[[ 0.40342941  0.39027086 -0.3065106 ]\n",
      " [ 0.37674415  0.41387543 -0.30746338]]\n"
     ]
    }
   ],
   "source": [
    "# load data\n",
    "iris = datasets.load_iris()\n",
    "input = np.array(iris.data[1:3,:])\n",
    "print 'Input: \\n', input\n",
    "\n",
    "# propagating input throught each layer\n",
    "\n",
    "# input layer\n",
    "print '\\nmlp.InputLayer.GetOutput(input): \\n',mlp.InputLayer.GetOutput(input).eval()\n",
    "input_output = mlp.InputLayer.GetOutput(input).eval()\n",
    "\n",
    "# all hidden layers\n",
    "# hidden 0 layer\n",
    "print '\\nmlp.HiddenLayer[0].GetOutput(input).eval(): \\n',mlp.HiddenLayer[0].GetOutput(input_output).eval()\n",
    "hidden_output = mlp.HiddenLayer[0].GetOutput(input_output).eval()\n",
    "\n",
    "# output layer\n",
    "#print '\\nmlp.OutputLayer.GetOutput(hidden_output).eval(): \\n',mlp.OutputLayer.GetOutput(hidden_output).eval()\n",
    "\n",
    "# mlp object\n",
    "print '\\nmlp.GetOutput(input,show=False): \\n',mlp.GetOutput(input).eval()"
   ]
  },
  {
   "cell_type": "code",
   "execution_count": 14,
   "metadata": {
    "collapsed": false
   },
   "outputs": [
    {
     "name": "stdout",
     "output_type": "stream",
     "text": [
      "L1Reg:  37.6365235788\n",
      "L2Reg:  14.9499002152\n"
     ]
    }
   ],
   "source": [
    "# Test L1Regularization\n",
    "print \"L1Reg: \", mlp.GetL1Reg().eval()\n",
    "\n",
    "# Test L2Regularization\n",
    "print \"L2Reg: \", mlp.GetL2Reg().eval()"
   ]
  },
  {
   "cell_type": "code",
   "execution_count": 4,
   "metadata": {
    "collapsed": false
   },
   "outputs": [
    {
     "data": {
      "text/plain": [
       "W"
      ]
     },
     "execution_count": 4,
     "metadata": {},
     "output_type": "execute_result"
    }
   ],
   "source": [
    "from sklearn import datasets\n",
    "\n",
    "iris = datasets.load_iris()\n",
    "X = iris.data\n",
    "Y = iris.target\n",
    "\n",
    "#mlp.Train(X,Y)\n",
    "\n",
    "mlp.HiddenLayer[0].W\n"
   ]
  }
 ],
 "metadata": {
  "kernelspec": {
   "display_name": "Python 2",
   "language": "python",
   "name": "python2"
  },
  "language_info": {
   "codemirror_mode": {
    "name": "ipython",
    "version": 2
   },
   "file_extension": ".py",
   "mimetype": "text/x-python",
   "name": "python",
   "nbconvert_exporter": "python",
   "pygments_lexer": "ipython2",
   "version": "2.7.6"
  }
 },
 "nbformat": 4,
 "nbformat_minor": 0
}
