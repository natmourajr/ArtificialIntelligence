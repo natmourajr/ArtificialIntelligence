{
 "cells": [
  {
   "cell_type": "code",
   "execution_count": 1,
   "metadata": {
    "collapsed": false
   },
   "outputs": [],
   "source": [
    "# Import for Neural Network Tutorial\n",
    "from NeuralNetwork import MultiLayerPerceptron as mlpLib\n",
    "\n",
    "import numpy as np"
   ]
  },
  {
   "cell_type": "code",
   "execution_count": 2,
   "metadata": {
    "collapsed": false
   },
   "outputs": [
    {
     "name": "stdout",
     "output_type": "stream",
     "text": [
      "\n",
      "MLP Class Constructor\n",
      "n_in:  4\n",
      "n_hidden:  [10, 2]\n",
      "n_out:  3\n",
      "hidden_act:  Elemwise{tanh,no_inplace}\n",
      "output_act:  Elemwise{tanh,no_inplace}\n",
      "\n",
      "\n",
      "Input Layer Constructor\n",
      "n_in:  4\n",
      "n_out:  4\n",
      "pre_function:  None\n",
      "\n",
      "\n",
      "Hidden Layer Constructor\n",
      "n_in:  4\n",
      "n_out:  10\n",
      "activation:  Elemwise{tanh,no_inplace}\n",
      "\n",
      "\n",
      "Hidden Layer Constructor\n",
      "n_in:  10\n",
      "n_out:  2\n",
      "activation:  Elemwise{tanh,no_inplace}\n",
      "\n",
      "\n",
      "Output Layer Constructor\n",
      "n_in:  2\n",
      "n_out:  3\n",
      "activation:  Elemwise{tanh,no_inplace}\n",
      "\n"
     ]
    }
   ],
   "source": [
    "# How create a MLP object\n",
    "mlp = mlpLib.MLP(rng=np.random.RandomState(), n_in=4, n_hidden=[10, 2], n_out=3, show=True)"
   ]
  },
  {
   "cell_type": "code",
   "execution_count": 4,
   "metadata": {
    "collapsed": false
   },
   "outputs": [
    {
     "data": {
      "text/plain": [
       "3"
      ]
     },
     "execution_count": 4,
     "metadata": {},
     "output_type": "execute_result"
    }
   ],
   "source": [
    "mlp."
   ]
  }
 ],
 "metadata": {
  "kernelspec": {
   "display_name": "Python 2",
   "language": "python",
   "name": "python2"
  },
  "language_info": {
   "codemirror_mode": {
    "name": "ipython",
    "version": 2
   },
   "file_extension": ".py",
   "mimetype": "text/x-python",
   "name": "python",
   "nbconvert_exporter": "python",
   "pygments_lexer": "ipython2",
   "version": "2.7.6"
  }
 },
 "nbformat": 4,
 "nbformat_minor": 0
}
