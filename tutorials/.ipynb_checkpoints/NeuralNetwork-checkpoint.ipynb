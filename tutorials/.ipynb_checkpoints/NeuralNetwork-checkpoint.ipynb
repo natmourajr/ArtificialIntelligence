{
 "cells": [
  {
   "cell_type": "code",
   "execution_count": 1,
   "metadata": {
    "collapsed": false
   },
   "outputs": [],
   "source": [
    "# Import for Neural Network\n",
    "from NeuralNetwork import MultiLayerPerceptron as mlpLib\n",
    "\n",
    "import numpy as np"
   ]
  },
  {
   "cell_type": "code",
   "execution_count": 2,
   "metadata": {
    "collapsed": false
   },
   "outputs": [],
   "source": [
    "# How create a MLP object\n",
    "mlp = mlpLib.MLP(rng=np.random.RandomState(), n_in=4, n_hidden=[5, 5], n_out=3)"
   ]
  },
  {
   "cell_type": "code",
   "execution_count": 4,
   "metadata": {
    "collapsed": false
   },
   "outputs": [
    {
     "name": "stdout",
     "output_type": "stream",
     "text": [
      "Input: \n",
      "[[ 4.9  3.   1.4  0.2]\n",
      " [ 4.7  3.2  1.3  0.2]]\n",
      "\n",
      "mlp.InputLayer.GetOutput(input): \n",
      "[[ 4.9  3.   1.4  0.2]\n",
      " [ 4.7  3.2  1.3  0.2]]\n",
      "\n",
      "mlp.HiddenLayer[0].GetOutput(input).eval(): \n",
      "[[ 0.02887549  0.99926761 -0.98473824  0.99486932  0.4896645  -0.95295218\n",
      "  -0.87332714  0.83645185  0.98850599 -0.76053036]\n",
      " [-0.09673248  0.99919689 -0.97808585  0.99496442  0.50659297 -0.96150232\n",
      "  -0.87704304  0.74187199  0.98638848 -0.81007268]]\n",
      "\n",
      "mlp.OutputLayer.GetOutput(hidden_output).eval(): \n",
      "[[-0.59155379  0.96970504 -0.22560333]\n",
      " [-0.60667018  0.9740361  -0.34757962]]\n",
      "\n",
      "mlp.GetOutput(input,show=False): \n",
      "[[-0.59155379  0.96970504 -0.22560333]\n",
      " [-0.60667018  0.9740361  -0.34757962]]\n"
     ]
    }
   ],
   "source": [
    "# load data\n",
    "from sklearn import datasets\n",
    "iris = datasets.load_iris()\n",
    "input = np.array(iris.data[1:3,:])\n",
    "print 'Input: \\n', input\n",
    "\n",
    "# propagating input throught each layer\n",
    "\n",
    "# input layer\n",
    "print '\\nmlp.InputLayer.GetOutput(input): \\n',mlp.InputLayer.GetOutput(input)\n",
    "\n",
    "# all hidden layers\n",
    "# hidden 0 layer\n",
    "print '\\nmlp.HiddenLayer[0].GetOutput(input).eval(): \\n',mlp.HiddenLayer[0].GetOutput(input).eval()\n",
    "hidden_output = mlp.HiddenLayer[0].GetOutput(input).eval()\n",
    "\n",
    "# output layer\n",
    "print '\\nmlp.OutputLayer.GetOutput(hidden_output).eval(): \\n',mlp.OutputLayer.GetOutput(hidden_output).eval()\n",
    "\n",
    "# mlp object\n",
    "print '\\nmlp.GetOutput(input,show=False): \\n',mlp.GetOutput(input).eval()"
   ]
  },
  {
   "cell_type": "code",
   "execution_count": 3,
   "metadata": {
    "collapsed": false
   },
   "outputs": [
    {
     "name": "stdout",
     "output_type": "stream",
     "text": [
      "L1Reg:  16.1004828785\n",
      "L2Reg:  8.93363300182\n",
      "[W, b, W, b, W, b]\n"
     ]
    }
   ],
   "source": [
    "# Test L1Regularization\n",
    "print \"L1Reg: \", mlp.GetL1Reg().eval()\n",
    "\n",
    "# Test L2Regularization\n",
    "print \"L2Reg: \", mlp.GetL2Reg().eval()"
   ]
  },
  {
   "cell_type": "code",
   "execution_count": 3,
   "metadata": {
    "collapsed": false
   },
   "outputs": [
    {
     "name": "stdout",
     "output_type": "stream",
     "text": [
      "Train Function\n",
      "Starting Train Process with the follow parameters:\n",
      "Performance Function:  mse\n",
      "L1 Regularization Value:  0.0\n",
      "L2 Regularization Value:  0.0001\n",
      "Number of Epochs:  10\n",
      "Learning Rate:  0.01\n"
     ]
    }
   ],
   "source": [
    "from sklearn import datasets\n",
    "\n",
    "iris = datasets.load_iris()\n",
    "X = iris.data\n",
    "Y = iris.target\n",
    "\n",
    "mlp.Train(X,Y)"
   ]
  }
 ],
 "metadata": {
  "kernelspec": {
   "display_name": "Python 2",
   "language": "python",
   "name": "python2"
  },
  "language_info": {
   "codemirror_mode": {
    "name": "ipython",
    "version": 2
   },
   "file_extension": ".py",
   "mimetype": "text/x-python",
   "name": "python",
   "nbconvert_exporter": "python",
   "pygments_lexer": "ipython2",
   "version": "2.7.6"
  }
 },
 "nbformat": 4,
 "nbformat_minor": 0
}
